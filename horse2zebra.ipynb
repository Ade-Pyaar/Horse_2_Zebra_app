{
 "cells": [
  {
   "cell_type": "code",
   "execution_count": null,
   "metadata": {},
   "outputs": [],
   "source": [
    "from fastai.vision.all import *\n",
    "import ipywidgets as widgets\n",
    "from utils import predict, show_tensor_images"
   ]
  },
  {
   "cell_type": "markdown",
   "metadata": {},
   "source": [
    "# This is a GAN model that transforms a horse to a zebra.\n",
    "## Creepy, right...?\n",
    "### The model is not perfect so there may be some mistakes.\n",
    "### And don't upload a pictire that is not a horse, unless you wanna see some weird stuff."
   ]
  },
  {
   "cell_type": "code",
   "execution_count": null,
   "metadata": {},
   "outputs": [],
   "source": [
    "def on_data_change(change):\n",
    "    img = PILImage.create(button_upload.data[-1])\n",
    "    input_image, output_image = predict(img)\n",
    "#     real_display.clear_output()\n",
    "#     fake_display.clear_output()\n",
    "    display(img)\n",
    "#     display(output_image)\n",
    "    display(show_tensor_images(torch.cat([input_image, output_image]), size=(3, 256, 256)))\n",
    "    \n",
    "    \n",
    "button_upload = widgets.FileUpload()\n",
    "# real_display = widgets.Output()\n",
    "# fake_display = widgets.Output()\n",
    "button_upload.observe(on_data_change, names=['data'])\n",
    "display(widgets.VBox([widgets.Label('Select an Image of a horse!'), button_upload]))"
   ]
  },
  {
   "cell_type": "code",
   "execution_count": null,
   "metadata": {},
   "outputs": [],
   "source": []
  }
 ],
 "metadata": {
  "kernelspec": {
   "display_name": "Python 3",
   "language": "python",
   "name": "python3"
  },
  "language_info": {
   "codemirror_mode": {
    "name": "ipython",
    "version": 3
   },
   "file_extension": ".py",
   "mimetype": "text/x-python",
   "name": "python",
   "nbconvert_exporter": "python",
   "pygments_lexer": "ipython3",
   "version": "3.8.3"
  }
 },
 "nbformat": 4,
 "nbformat_minor": 4
}
